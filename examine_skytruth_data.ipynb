{
 "cells": [
  {
   "cell_type": "markdown",
   "metadata": {},
   "source": [
    "Used to explore the data"
   ]
  },
  {
   "cell_type": "code",
   "execution_count": 9,
   "metadata": {},
   "outputs": [],
   "source": [
    "import pandas as pd\n",
    "import numpy as np\n",
    "import matplotlib.pyplot as plt\n",
    "datadir = './sources/'\n",
    "fn1 = datadir+'sky_truth_flagged.csv'\n"
   ]
  },
  {
   "cell_type": "code",
   "execution_count": 10,
   "metadata": {},
   "outputs": [],
   "source": [
    "df = pd.read_csv(fn1,low_memory=False,quotechar='$')\n",
    "df.fracture_date = pd.to_datetime(df.fracture_date,errors='coerce')\n",
    "df.published = pd.to_datetime(df.published,errors='coerce')"
   ]
  },
  {
   "cell_type": "code",
   "execution_count": 11,
   "metadata": {},
   "outputs": [
    {
     "name": "stdout",
     "output_type": "stream",
     "text": [
      "<class 'pandas.core.frame.DataFrame'>\n",
      "RangeIndex: 1660816 entries, 0 to 1660815\n",
      "Data columns (total 28 columns):\n",
      " #   Column                  Non-Null Count    Dtype         \n",
      "---  ------                  --------------    -----         \n",
      " 0   r_seqid                 1660816 non-null  float64       \n",
      " 1   pdf_seqid               1660816 non-null  int64         \n",
      " 2   api                     1660816 non-null  object        \n",
      " 3   fracture_date           1660739 non-null  datetime64[ns]\n",
      " 4   state                   1660816 non-null  object        \n",
      " 5   county                  1660816 non-null  object        \n",
      " 6   operator                1660816 non-null  object        \n",
      " 7   well_name               1660816 non-null  object        \n",
      " 8   production_type         1603353 non-null  object        \n",
      " 9   latitude                1660816 non-null  float64       \n",
      " 10  longitude               1660816 non-null  float64       \n",
      " 11  datum                   1660816 non-null  object        \n",
      " 12  true_vertical_depth     1660816 non-null  object        \n",
      " 13  total_water_volume      1660816 non-null  object        \n",
      " 14  published               1660816 non-null  datetime64[ns]\n",
      " 15  c_seqid                 1660816 non-null  float64       \n",
      " 16  row                     1660816 non-null  float64       \n",
      " 17  trade_name              735479 non-null   object        \n",
      " 18  supplier                718218 non-null   object        \n",
      " 19  purpose                 705601 non-null   object        \n",
      " 20  ingredients             1565095 non-null  object        \n",
      " 21  cas_number              1519073 non-null  object        \n",
      " 22  additive_concentration  1660816 non-null  object        \n",
      " 23  hf_fluid_concentration  1660816 non-null  object        \n",
      " 24  comments                103560 non-null   object        \n",
      " 25  cas_type                1659815 non-null  object        \n",
      " 26  raw_filename            1660816 non-null  object        \n",
      " 27  potential_casig_dupe    1660816 non-null  bool          \n",
      "dtypes: bool(1), datetime64[ns](2), float64(5), int64(1), object(19)\n",
      "memory usage: 343.7+ MB\n"
     ]
    }
   ],
   "source": [
    "df.info()"
   ]
  },
  {
   "cell_type": "code",
   "execution_count": 4,
   "metadata": {},
   "outputs": [
    {
     "data": {
      "text/plain": [
       "1668507   2012-07-03\n",
       "1668508   2012-07-03\n",
       "1668509   2012-07-03\n",
       "1668510   2012-07-03\n",
       "1668511          NaT\n",
       "Name: fracture_date, dtype: datetime64[ns]"
      ]
     },
     "execution_count": 4,
     "metadata": {},
     "output_type": "execute_result"
    }
   ],
   "source": [
    "df.fracture_date.tail()"
   ]
  },
  {
   "cell_type": "code",
   "execution_count": 6,
   "metadata": {},
   "outputs": [],
   "source": [
    "df['APINumber'] = df.api\n",
    "df.APINumber = np.where(df.APINumber.str.len()==13, #shortened state numbers\n",
    "                       '0'+ df.APINumber,\n",
    "                       df.APINumber)\n",
    "df.APINumber = np.where(df.APINumber.str.len()==9, #shortened state numbers\n",
    "                       '0'+ df.APINumber + '0000',\n",
    "                       df.APINumber)\n",
    "df.APINumber = np.where(df.APINumber.str.len()==10,\n",
    "                       df.APINumber + '0000',\n",
    "                       df.APINumber)\n"
   ]
  },
  {
   "cell_type": "code",
   "execution_count": null,
   "metadata": {},
   "outputs": [],
   "source": [
    "gb = df.group"
   ]
  },
  {
   "cell_type": "code",
   "execution_count": 4,
   "metadata": {},
   "outputs": [
    {
     "data": {
      "text/plain": [
       "562"
      ]
     },
     "execution_count": 4,
     "metadata": {},
     "output_type": "execute_result"
    }
   ],
   "source": [
    "df['ncas'] = pd.to_numeric(df.cas_number,errors='coerce')\n",
    "len(list(df[~df.ncas.isna()].api.unique()))"
   ]
  },
  {
   "cell_type": "code",
   "execution_count": 16,
   "metadata": {
    "scrolled": true
   },
   "outputs": [],
   "source": [
    "df[df.api=='33-053-03320'].to_csv('temp.csv')"
   ]
  },
  {
   "cell_type": "code",
   "execution_count": 26,
   "metadata": {},
   "outputs": [],
   "source": [
    "df[df.api=='17-031-25776'].to_csv('temp.csv')"
   ]
  },
  {
   "cell_type": "code",
   "execution_count": 19,
   "metadata": {},
   "outputs": [],
   "source": [
    "t = df.groupby('APINumber',as_index=False)['IngredientName','CASNumber'].first()\n",
    "t.to_csv('temp.csv')"
   ]
  },
  {
   "cell_type": "code",
   "execution_count": 14,
   "metadata": {},
   "outputs": [
    {
     "data": {
      "text/plain": [
       "50768"
      ]
     },
     "execution_count": 14,
     "metadata": {},
     "output_type": "execute_result"
    }
   ],
   "source": [
    "api = list(df[df.potential].APINumber.unique())\n",
    "len(api)"
   ]
  },
  {
   "cell_type": "code",
   "execution_count": 12,
   "metadata": {},
   "outputs": [
    {
     "data": {
      "text/plain": [
       "50785"
      ]
     },
     "execution_count": 12,
     "metadata": {},
     "output_type": "execute_result"
    }
   ],
   "source": [
    "len(df.APINumber.unique())"
   ]
  }
 ],
 "metadata": {
  "hide_input": false,
  "kernelspec": {
   "display_name": "Python 3",
   "language": "python",
   "name": "python3"
  },
  "language_info": {
   "codemirror_mode": {
    "name": "ipython",
    "version": 3
   },
   "file_extension": ".py",
   "mimetype": "text/x-python",
   "name": "python",
   "nbconvert_exporter": "python",
   "pygments_lexer": "ipython3",
   "version": "3.8.5"
  }
 },
 "nbformat": 4,
 "nbformat_minor": 2
}
