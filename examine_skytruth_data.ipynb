{
 "cells": [
  {
   "cell_type": "markdown",
   "metadata": {},
   "source": [
    "Used to explore the data"
   ]
  },
  {
   "cell_type": "code",
   "execution_count": 21,
   "metadata": {},
   "outputs": [],
   "source": [
    "import pandas as pd\n",
    "import numpy as np\n",
    "import matplotlib.pyplot as plt\n",
    "datadir = './sources/'\n",
    "fn1 = datadir+'skytruth_cleaned.csv'\n"
   ]
  },
  {
   "cell_type": "code",
   "execution_count": 22,
   "metadata": {},
   "outputs": [],
   "source": [
    "df = pd.read_csv(fn1,low_memory=False,quotechar='$')"
   ]
  },
  {
   "cell_type": "code",
   "execution_count": 23,
   "metadata": {},
   "outputs": [
    {
     "data": {
      "text/plain": [
       "Index(['r_seqid', 'pdf_seqid', 'api', 'fracture_date', 'state', 'county',\n",
       "       'operator', 'well_name', 'production_type', 'latitude', 'longitude',\n",
       "       'datum', 'true_vertical_depth', 'total_water_volume', 'published',\n",
       "       'c_seqid', 'row', 'trade_name', 'supplier', 'purpose', 'ingredients',\n",
       "       'cas_number', 'additive_concentration', 'hf_fluid_concentration',\n",
       "       'comments', 'cas_type', 'raw_filename'],\n",
       "      dtype='object')"
      ]
     },
     "execution_count": 23,
     "metadata": {},
     "output_type": "execute_result"
    }
   ],
   "source": [
    "df.columns"
   ]
  },
  {
   "cell_type": "code",
   "execution_count": 29,
   "metadata": {},
   "outputs": [
    {
     "data": {
      "text/plain": [
       "562"
      ]
     },
     "execution_count": 29,
     "metadata": {},
     "output_type": "execute_result"
    }
   ],
   "source": [
    "df['ncas'] = pd.to_numeric(df.cas_number,errors='coerce')\n",
    "len(list(df[~df.ncas.isna()].api.unique()))"
   ]
  },
  {
   "cell_type": "code",
   "execution_count": 25,
   "metadata": {
    "scrolled": true
   },
   "outputs": [
    {
     "data": {
      "text/html": [
       "<div>\n",
       "<style scoped>\n",
       "    .dataframe tbody tr th:only-of-type {\n",
       "        vertical-align: middle;\n",
       "    }\n",
       "\n",
       "    .dataframe tbody tr th {\n",
       "        vertical-align: top;\n",
       "    }\n",
       "\n",
       "    .dataframe thead th {\n",
       "        text-align: right;\n",
       "    }\n",
       "</style>\n",
       "<table border=\"1\" class=\"dataframe\">\n",
       "  <thead>\n",
       "    <tr style=\"text-align: right;\">\n",
       "      <th></th>\n",
       "      <th>r_seqid</th>\n",
       "      <th>pdf_seqid</th>\n",
       "      <th>api</th>\n",
       "      <th>fracture_date</th>\n",
       "      <th>state</th>\n",
       "      <th>county</th>\n",
       "      <th>operator</th>\n",
       "      <th>well_name</th>\n",
       "      <th>production_type</th>\n",
       "      <th>latitude</th>\n",
       "      <th>...</th>\n",
       "      <th>trade_name</th>\n",
       "      <th>supplier</th>\n",
       "      <th>purpose</th>\n",
       "      <th>ingredients</th>\n",
       "      <th>cas_number</th>\n",
       "      <th>additive_concentration</th>\n",
       "      <th>hf_fluid_concentration</th>\n",
       "      <th>comments</th>\n",
       "      <th>cas_type</th>\n",
       "      <th>raw_filename</th>\n",
       "    </tr>\n",
       "  </thead>\n",
       "  <tbody>\n",
       "    <tr>\n",
       "      <td>749508</td>\n",
       "      <td>25692.0</td>\n",
       "      <td>11237</td>\n",
       "      <td>17-031-25776</td>\n",
       "      <td>2012-01-05</td>\n",
       "      <td>Louisiana</td>\n",
       "      <td>De Soto</td>\n",
       "      <td>EXCO Resources, Inc.</td>\n",
       "      <td>Meriwether 34 No. 1-Alt</td>\n",
       "      <td>Gas</td>\n",
       "      <td>32.151578</td>\n",
       "      <td>...</td>\n",
       "      <td>NaN</td>\n",
       "      <td>NaN</td>\n",
       "      <td>NaN</td>\n",
       "      <td>Carbohydrate polymer</td>\n",
       "      <td>1.74533</td>\n",
       "      <td>0.20037</td>\n",
       "      <td>None</td>\n",
       "      <td>NaN</td>\n",
       "      <td>other</td>\n",
       "      <td>SKY_2012</td>\n",
       "    </tr>\n",
       "  </tbody>\n",
       "</table>\n",
       "<p>1 rows × 27 columns</p>\n",
       "</div>"
      ],
      "text/plain": [
       "        r_seqid pdf_seqid           api fracture_date      state   county  \\\n",
       "749508  25692.0     11237  17-031-25776    2012-01-05  Louisiana  De Soto   \n",
       "\n",
       "                    operator                well_name production_type  \\\n",
       "749508  EXCO Resources, Inc.  Meriwether 34 No. 1-Alt             Gas   \n",
       "\n",
       "         latitude  ...  trade_name supplier purpose           ingredients  \\\n",
       "749508  32.151578  ...         NaN      NaN     NaN  Carbohydrate polymer   \n",
       "\n",
       "       cas_number  additive_concentration  hf_fluid_concentration comments  \\\n",
       "749508    1.74533                 0.20037                    None      NaN   \n",
       "\n",
       "       cas_type raw_filename  \n",
       "749508    other     SKY_2012  \n",
       "\n",
       "[1 rows x 27 columns]"
      ]
     },
     "execution_count": 25,
     "metadata": {},
     "output_type": "execute_result"
    }
   ],
   "source": [
    "df[df.cas_number=='1.74533']"
   ]
  },
  {
   "cell_type": "code",
   "execution_count": 26,
   "metadata": {},
   "outputs": [],
   "source": [
    "df[df.api=='17-031-25776'].to_csv('temp.csv')"
   ]
  },
  {
   "cell_type": "code",
   "execution_count": 19,
   "metadata": {},
   "outputs": [],
   "source": [
    "t = df.groupby('APINumber',as_index=False)['IngredientName','CASNumber'].first()\n",
    "t.to_csv('temp.csv')"
   ]
  },
  {
   "cell_type": "code",
   "execution_count": 14,
   "metadata": {},
   "outputs": [
    {
     "data": {
      "text/plain": [
       "50768"
      ]
     },
     "execution_count": 14,
     "metadata": {},
     "output_type": "execute_result"
    }
   ],
   "source": [
    "api = list(df[df.potential].APINumber.unique())\n",
    "len(api)"
   ]
  },
  {
   "cell_type": "code",
   "execution_count": 12,
   "metadata": {},
   "outputs": [
    {
     "data": {
      "text/plain": [
       "50785"
      ]
     },
     "execution_count": 12,
     "metadata": {},
     "output_type": "execute_result"
    }
   ],
   "source": [
    "len(df.APINumber.unique())"
   ]
  }
 ],
 "metadata": {
  "kernelspec": {
   "display_name": "Python 3",
   "language": "python",
   "name": "python3"
  },
  "language_info": {
   "codemirror_mode": {
    "name": "ipython",
    "version": 3
   },
   "file_extension": ".py",
   "mimetype": "text/x-python",
   "name": "python",
   "nbconvert_exporter": "python",
   "pygments_lexer": "ipython3",
   "version": "3.7.4"
  }
 },
 "nbformat": 4,
 "nbformat_minor": 2
}
